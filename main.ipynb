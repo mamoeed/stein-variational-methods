{
 "cells": [
  {
   "cell_type": "code",
   "execution_count": null,
   "metadata": {},
   "outputs": [
    {
     "ename": "",
     "evalue": "",
     "output_type": "error",
     "traceback": [
      "\u001b[1;31mRunning cells with '/usr/local/bin/python3.9' requires ipykernel package.\n",
      "\u001b[1;31mRun the following command to install 'ipykernel' into the Python environment. \n",
      "\u001b[1;31mCommand: '/usr/local/bin/python3.9 -m pip install ipykernel -U --user --force-reinstall'"
     ]
    }
   ],
   "source": [
    "import sys\n",
    "import yaml\n",
    "from experiment import run_experiment\n",
    "import numpy as np"
   ]
  },
  {
   "cell_type": "code",
   "execution_count": null,
   "metadata": {},
   "outputs": [],
   "source": [
    "def read_config(file_path):\n",
    "    try:\n",
    "        with open(file_path, 'r') as file:\n",
    "            return yaml.safe_load(file)\n",
    "    except FileNotFoundError:\n",
    "        print(f\"Error: The file '{file_path}' was not found.\")\n",
    "        sys.exit(1)\n",
    "    except yaml.YAMLError as e:\n",
    "        print(f\"Error parsing the YAML file: {e}\")\n",
    "        sys.exit(1)"
   ]
  },
  {
   "cell_type": "code",
   "execution_count": null,
   "metadata": {},
   "outputs": [],
   "source": [
    "config_path = ''\n",
    "config = read_config(config_path)\n",
    "\n",
    "print(\"Configuration loaded successfully:\")\n",
    "\n",
    "# run multiple experiments of different seed values and save results\n",
    "seeds = [38,39,40,41,42] #  [38,39,40,41,42]\n",
    "num_seeds = len(seeds)\n",
    "test_results = []\n",
    "for s in seeds:\n",
    "    print(f'\\n############ Starting new experiment, seed: {s} #############\\n')\n",
    "    test_results.append(run_experiment(config, s))\n",
    "print('### CONFIG: ###')\n",
    "print('learning rate:',config['lr'])\n",
    "print('method:',config['method'])\n",
    "print('anneal:',config['anneal'])\n",
    "\n",
    "print(\"\\n\\nRESULTS OVER ALL SEED RUNS:\")\n",
    "\n",
    "if config['is_classification']:\n",
    "    test_NLL, test_accuracy, test_cross_entropy, test_brier, test_entropy, test_auroc = [],[],[],[],[],[]\n",
    "    for r in test_results:\n",
    "        print(r)\n",
    "        test_accuracy.append(r['Accuracy'])\n",
    "        test_NLL.append(r['NLL'])\n",
    "        test_cross_entropy.append(r['Cross Entropy'])\n",
    "        test_brier.append(r['Brier'])\n",
    "        test_entropy.append(r['Entropy'])\n",
    "        test_auroc.append(r['AUROC'])\n",
    "    print('VALIDATION NLL...\\n')\n",
    "    [print(r['val_NLL']) for r in test_results]\n",
    "\n",
    "    print('AVERAGE RESULTS OVER ALL SEEDS:')\n",
    "    print(f'test_NLL = {np.round(np.mean(test_NLL),6)} +/- {np.round(np.std(test_NLL),6)}, test_accuracy = {np.round(np.mean(test_accuracy),6)} +/- {np.round(np.std(test_accuracy),6)} test_brier = {np.round(np.mean(test_brier),6)} +/- {np.round(np.std(test_brier),6)}, test_entropy = {np.round(np.mean(test_entropy),6)} +/- {np.round(np.std(test_entropy),6)}, test_auroc = {np.round(np.mean(test_auroc),6)} +/- {np.round(np.std(test_auroc),6)}')\n",
    "    \n",
    "else:\n",
    "    test_NLL, test_MSE, test_RMSE = [],[],[]\n",
    "    for r in test_results:\n",
    "        print(r)\n",
    "        test_NLL.append(r['NLL'])\n",
    "        test_MSE.append(r['MSE'])\n",
    "        test_RMSE.append(r['RMSE'])\n",
    "    print('VALIDATION NLL...\\n')\n",
    "    [print(r['val_NLL']) for r in test_results]\n",
    "    print('AVERAGE RESULTS OVER ALL SEEDS:')\n",
    "    print(f'test_NLL = {np.round(np.mean(test_NLL),6)} +/- {np.round(np.std(test_NLL),6)}, test_MSE = {np.round(np.mean(test_MSE),6)} +/- {np.round(np.std(test_MSE),6)}, test_RMSE = {np.round(np.mean(test_RMSE),6)} +/- {np.round(np.std(test_RMSE),6)}')\n"
   ]
  }
 ],
 "metadata": {
  "kernelspec": {
   "display_name": "Python 3",
   "language": "python",
   "name": "python3"
  },
  "language_info": {
   "name": "python",
   "version": "3.9.18 (main, Nov  2 2023, 17:01:24) \n[Clang 14.0.0 (clang-1400.0.29.202)]"
  },
  "orig_nbformat": 4,
  "vscode": {
   "interpreter": {
    "hash": "397704579725e15f5c7cb49fe5f0341eb7531c82d19f2c29d197e8b64ab5776b"
   }
  }
 },
 "nbformat": 4,
 "nbformat_minor": 2
}
